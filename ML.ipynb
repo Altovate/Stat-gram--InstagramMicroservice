{
  "nbformat": 4,
  "nbformat_minor": 0,
  "metadata": {
    "colab": {
      "name": "ML.ipynb",
      "version": "0.3.2",
      "provenance": [],
      "collapsed_sections": []
    },
    "kernelspec": {
      "name": "python3",
      "display_name": "Python 3"
    }
  },
  "cells": [
    {
      "cell_type": "code",
      "metadata": {
        "id": "Uf7w_L8wkouS",
        "colab_type": "code",
        "outputId": "22b32548-c678-4e58-e303-bc8f154e7b2c",
        "colab": {
          "base_uri": "https://localhost:8080/",
          "height": 34
        }
      },
      "source": [
        "import pandas as pd\n",
        "import io\n",
        "import numpy as np # Import Numpy for data statistical analysis \n",
        "import matplotlib.pyplot as plt # Import matplotlib for data visualisation\n",
        "import seaborn as sns\n",
        "!ls\n",
        "\n"
      ],
      "execution_count": 16,
      "outputs": [
        {
          "output_type": "stream",
          "text": [
            "gdrive\tsample_data\n"
          ],
          "name": "stdout"
        }
      ]
    },
    {
      "cell_type": "code",
      "metadata": {
        "id": "cyXhvtyhoB9e",
        "colab_type": "code",
        "outputId": "f0ef152e-80ca-4279-ef77-473bb70413b0",
        "colab": {
          "base_uri": "https://localhost:8080/",
          "height": 476
        }
      },
      "source": [
        "!pip install tensorflow\n",
        "!pip install keras\n"
      ],
      "execution_count": 17,
      "outputs": [
        {
          "output_type": "stream",
          "text": [
            "Requirement already satisfied: tensorflow in /usr/local/lib/python3.6/dist-packages (1.13.1)\n",
            "Requirement already satisfied: termcolor>=1.1.0 in /usr/local/lib/python3.6/dist-packages (from tensorflow) (1.1.0)\n",
            "Requirement already satisfied: protobuf>=3.6.1 in /usr/local/lib/python3.6/dist-packages (from tensorflow) (3.7.1)\n",
            "Requirement already satisfied: six>=1.10.0 in /usr/local/lib/python3.6/dist-packages (from tensorflow) (1.12.0)\n",
            "Requirement already satisfied: tensorflow-estimator<1.14.0rc0,>=1.13.0 in /usr/local/lib/python3.6/dist-packages (from tensorflow) (1.13.0)\n",
            "Requirement already satisfied: grpcio>=1.8.6 in /usr/local/lib/python3.6/dist-packages (from tensorflow) (1.15.0)\n",
            "Requirement already satisfied: wheel>=0.26 in /usr/local/lib/python3.6/dist-packages (from tensorflow) (0.33.4)\n",
            "Requirement already satisfied: absl-py>=0.1.6 in /usr/local/lib/python3.6/dist-packages (from tensorflow) (0.7.1)\n",
            "Requirement already satisfied: keras-preprocessing>=1.0.5 in /usr/local/lib/python3.6/dist-packages (from tensorflow) (1.1.0)\n",
            "Requirement already satisfied: keras-applications>=1.0.6 in /usr/local/lib/python3.6/dist-packages (from tensorflow) (1.0.8)\n",
            "Requirement already satisfied: numpy>=1.13.3 in /usr/local/lib/python3.6/dist-packages (from tensorflow) (1.16.4)\n",
            "Requirement already satisfied: tensorboard<1.14.0,>=1.13.0 in /usr/local/lib/python3.6/dist-packages (from tensorflow) (1.13.1)\n",
            "Requirement already satisfied: astor>=0.6.0 in /usr/local/lib/python3.6/dist-packages (from tensorflow) (0.8.0)\n",
            "Requirement already satisfied: gast>=0.2.0 in /usr/local/lib/python3.6/dist-packages (from tensorflow) (0.2.2)\n",
            "Requirement already satisfied: setuptools in /usr/local/lib/python3.6/dist-packages (from protobuf>=3.6.1->tensorflow) (41.0.1)\n",
            "Requirement already satisfied: mock>=2.0.0 in /usr/local/lib/python3.6/dist-packages (from tensorflow-estimator<1.14.0rc0,>=1.13.0->tensorflow) (3.0.5)\n",
            "Requirement already satisfied: h5py in /usr/local/lib/python3.6/dist-packages (from keras-applications>=1.0.6->tensorflow) (2.8.0)\n",
            "Requirement already satisfied: werkzeug>=0.11.15 in /usr/local/lib/python3.6/dist-packages (from tensorboard<1.14.0,>=1.13.0->tensorflow) (0.15.4)\n",
            "Requirement already satisfied: markdown>=2.6.8 in /usr/local/lib/python3.6/dist-packages (from tensorboard<1.14.0,>=1.13.0->tensorflow) (3.1.1)\n",
            "Requirement already satisfied: keras in /usr/local/lib/python3.6/dist-packages (2.2.4)\n",
            "Requirement already satisfied: scipy>=0.14 in /usr/local/lib/python3.6/dist-packages (from keras) (1.3.0)\n",
            "Requirement already satisfied: pyyaml in /usr/local/lib/python3.6/dist-packages (from keras) (3.13)\n",
            "Requirement already satisfied: h5py in /usr/local/lib/python3.6/dist-packages (from keras) (2.8.0)\n",
            "Requirement already satisfied: keras-applications>=1.0.6 in /usr/local/lib/python3.6/dist-packages (from keras) (1.0.8)\n",
            "Requirement already satisfied: six>=1.9.0 in /usr/local/lib/python3.6/dist-packages (from keras) (1.12.0)\n",
            "Requirement already satisfied: keras-preprocessing>=1.0.5 in /usr/local/lib/python3.6/dist-packages (from keras) (1.1.0)\n",
            "Requirement already satisfied: numpy>=1.9.1 in /usr/local/lib/python3.6/dist-packages (from keras) (1.16.4)\n"
          ],
          "name": "stdout"
        }
      ]
    },
    {
      "cell_type": "code",
      "metadata": {
        "id": "UEPzIGTmnJ1F",
        "colab_type": "code",
        "outputId": "e16e7469-201a-4390-86a7-f8a161a83c4a",
        "colab": {
          "base_uri": "https://localhost:8080/",
          "height": 34
        }
      },
      "source": [
        "\n",
        "from google.colab import drive \n",
        "drive.mount('/content/gdrive')\n",
        "\n",
        "import pandas as pd \n",
        "df=pd.read_csv('gdrive/My Drive/Colab Notebooks/InstagramSpammer.csv')\n",
        "\n",
        "\n"
      ],
      "execution_count": 18,
      "outputs": [
        {
          "output_type": "stream",
          "text": [
            "Drive already mounted at /content/gdrive; to attempt to forcibly remount, call drive.mount(\"/content/gdrive\", force_remount=True).\n"
          ],
          "name": "stdout"
        }
      ]
    },
    {
      "cell_type": "code",
      "metadata": {
        "id": "qqRbvp3Epgmu",
        "colab_type": "code",
        "outputId": "03dcac37-7598-4bed-b385-7286b4379133",
        "colab": {
          "base_uri": "https://localhost:8080/",
          "height": 221
        }
      },
      "source": [
        "df.head()"
      ],
      "execution_count": 19,
      "outputs": [
        {
          "output_type": "execute_result",
          "data": {
            "text/html": [
              "<div>\n",
              "<style scoped>\n",
              "    .dataframe tbody tr th:only-of-type {\n",
              "        vertical-align: middle;\n",
              "    }\n",
              "\n",
              "    .dataframe tbody tr th {\n",
              "        vertical-align: top;\n",
              "    }\n",
              "\n",
              "    .dataframe thead th {\n",
              "        text-align: right;\n",
              "    }\n",
              "</style>\n",
              "<table border=\"1\" class=\"dataframe\">\n",
              "  <thead>\n",
              "    <tr style=\"text-align: right;\">\n",
              "      <th></th>\n",
              "      <th>profile pic</th>\n",
              "      <th>nums/length username</th>\n",
              "      <th>fullname words</th>\n",
              "      <th>nums/length fullname</th>\n",
              "      <th>name==username</th>\n",
              "      <th>description length</th>\n",
              "      <th>external URL</th>\n",
              "      <th>private</th>\n",
              "      <th>#posts</th>\n",
              "      <th>#followers</th>\n",
              "      <th>#follows</th>\n",
              "      <th>fake</th>\n",
              "    </tr>\n",
              "  </thead>\n",
              "  <tbody>\n",
              "    <tr>\n",
              "      <th>0</th>\n",
              "      <td>1</td>\n",
              "      <td>0.33</td>\n",
              "      <td>1</td>\n",
              "      <td>0.33</td>\n",
              "      <td>1</td>\n",
              "      <td>30</td>\n",
              "      <td>0</td>\n",
              "      <td>1</td>\n",
              "      <td>35</td>\n",
              "      <td>488</td>\n",
              "      <td>604</td>\n",
              "      <td>0</td>\n",
              "    </tr>\n",
              "    <tr>\n",
              "      <th>1</th>\n",
              "      <td>1</td>\n",
              "      <td>0.00</td>\n",
              "      <td>5</td>\n",
              "      <td>0.00</td>\n",
              "      <td>0</td>\n",
              "      <td>64</td>\n",
              "      <td>0</td>\n",
              "      <td>1</td>\n",
              "      <td>3</td>\n",
              "      <td>35</td>\n",
              "      <td>6</td>\n",
              "      <td>0</td>\n",
              "    </tr>\n",
              "    <tr>\n",
              "      <th>2</th>\n",
              "      <td>1</td>\n",
              "      <td>0.00</td>\n",
              "      <td>2</td>\n",
              "      <td>0.00</td>\n",
              "      <td>0</td>\n",
              "      <td>82</td>\n",
              "      <td>0</td>\n",
              "      <td>1</td>\n",
              "      <td>319</td>\n",
              "      <td>328</td>\n",
              "      <td>668</td>\n",
              "      <td>0</td>\n",
              "    </tr>\n",
              "    <tr>\n",
              "      <th>3</th>\n",
              "      <td>1</td>\n",
              "      <td>0.00</td>\n",
              "      <td>1</td>\n",
              "      <td>0.00</td>\n",
              "      <td>0</td>\n",
              "      <td>143</td>\n",
              "      <td>0</td>\n",
              "      <td>1</td>\n",
              "      <td>273</td>\n",
              "      <td>14890</td>\n",
              "      <td>7369</td>\n",
              "      <td>0</td>\n",
              "    </tr>\n",
              "    <tr>\n",
              "      <th>4</th>\n",
              "      <td>1</td>\n",
              "      <td>0.50</td>\n",
              "      <td>1</td>\n",
              "      <td>0.00</td>\n",
              "      <td>0</td>\n",
              "      <td>76</td>\n",
              "      <td>0</td>\n",
              "      <td>1</td>\n",
              "      <td>6</td>\n",
              "      <td>225</td>\n",
              "      <td>356</td>\n",
              "      <td>0</td>\n",
              "    </tr>\n",
              "  </tbody>\n",
              "</table>\n",
              "</div>"
            ],
            "text/plain": [
              "   profile pic  nums/length username  ...  #follows  fake\n",
              "0            1                  0.33  ...       604     0\n",
              "1            1                  0.00  ...         6     0\n",
              "2            1                  0.00  ...       668     0\n",
              "3            1                  0.00  ...      7369     0\n",
              "4            1                  0.50  ...       356     0\n",
              "\n",
              "[5 rows x 12 columns]"
            ]
          },
          "metadata": {
            "tags": []
          },
          "execution_count": 19
        }
      ]
    },
    {
      "cell_type": "code",
      "metadata": {
        "id": "nobqL0LwWrwJ",
        "colab_type": "code",
        "outputId": "044210de-efa1-4cfa-a474-60e05871816d",
        "colab": {
          "base_uri": "https://localhost:8080/",
          "height": 238
        }
      },
      "source": [
        "\n",
        "# Normalize the data attributes for the Iris dataset.\n",
        "from sklearn.datasets import load_iris\n",
        "from sklearn import preprocessing\n",
        "\n",
        "# separate the data from the target attributes\n",
        "X = df.iloc[:,:-1]\n",
        "y = df.fake\n",
        "# normalize the data attributes\n",
        "normalized_X = preprocessing.normalize(X)\n",
        "print(normalized_X)"
      ],
      "execution_count": 20,
      "outputs": [
        {
          "output_type": "stream",
          "text": [
            "[[1.28555391e-03 4.24232790e-04 1.28555391e-03 ... 4.49943868e-02\n",
            "  6.27350307e-01 7.76474560e-01]\n",
            " [1.36171051e-02 0.00000000e+00 6.80855256e-02 ... 4.08513153e-02\n",
            "  4.76598679e-01 8.17026307e-02]\n",
            " [1.22877665e-03 0.00000000e+00 2.45755330e-03 ... 3.91979752e-01\n",
            "  4.03038741e-01 8.20822803e-01]\n",
            " ...\n",
            " [2.72639656e-04 0.00000000e+00 5.45279311e-04 ... 8.17918967e-04\n",
            "  2.27108833e-01 9.73868850e-01]\n",
            " [0.00000000e+00 9.94681482e-05 5.85106754e-04 ... 5.85106754e-04\n",
            "  1.28138379e-01 9.91755948e-01]\n",
            " [1.27451181e-02 5.60785198e-03 1.27451181e-02 ... 3.82353544e-02\n",
            "  4.97059607e-01 8.66668033e-01]]\n"
          ],
          "name": "stdout"
        }
      ]
    },
    {
      "cell_type": "code",
      "metadata": {
        "id": "s2Cc9MfAWjks",
        "colab_type": "code",
        "colab": {}
      },
      "source": [
        "\n"
      ],
      "execution_count": 0,
      "outputs": []
    },
    {
      "cell_type": "code",
      "metadata": {
        "id": "IiI-NBz_nBtI",
        "colab_type": "code",
        "outputId": "1ba00f47-d6d6-438f-f7ec-378922727b85",
        "colab": {
          "base_uri": "https://localhost:8080/",
          "height": 646
        }
      },
      "source": [
        "#Starting the Machine Learning\n",
        "\n",
        "\n",
        "normalized_X, y = make_classification(n_features=11, n_redundant=0, n_informative=3,\n",
        "                           random_state=1, n_classes=2, n_clusters_per_class=1)\n",
        "\n",
        "y = y.reshape(-1, 1)\n",
        "\n",
        "print(normalized_X.shape)\n",
        "print(y.shape)\n",
        "\n",
        "\n",
        "\n",
        "plt.figure(figsize=(10,10))\n",
        "\n",
        "plt.subplot(2,2,1)\n",
        "sns.scatterplot( x = '#posts', y = '#followers', hue = 'fake', data = df)\n",
        "\n",
        "plt.subplot(2,2,2)\n",
        "sns.scatterplot( x = '#follows', y = '#followers', hue = 'fake', data = df)\n",
        "\n",
        "plt.subplot(2,2,3)\n",
        "sns.scatterplot( x = 'private', y = '#followers', hue = 'fake', data = df)\n",
        "\n",
        "plt.subplot(2,2,4)\n",
        "sns.scatterplot( x = 'profile pic', y = '#followers', hue = 'fake', data = df)\n",
        "\n",
        "plt.show()"
      ],
      "execution_count": 61,
      "outputs": [
        {
          "output_type": "stream",
          "text": [
            "(100, 11)\n",
            "(100, 1)\n"
          ],
          "name": "stdout"
        },
        {
          "output_type": "display_data",
          "data": {
            "image/png": "[encoded data removed]",
            "text/plain": [
              "<Figure size 720x720 with 4 Axes>"
            ]
          },
          "metadata": {
            "tags": []
          }
        }
      ]
    },
    {
      "cell_type": "code",
      "metadata": {
        "id": "bbscsR_OPxd7",
        "colab_type": "code",
        "outputId": "6c875174-84b1-462b-81b9-f12e7e6f5396",
        "colab": {
          "base_uri": "https://localhost:8080/",
          "height": 646
        }
      },
      "source": [
        "#Starting the Machine Learning\n",
        "\n",
        "\n",
        "X, y = make_classification(n_features=11, n_redundant=0, n_informative=3,\n",
        "                           random_state=1, n_classes=2, n_clusters_per_class=1)\n",
        "\n",
        "y = y.reshape(-1, 1)\n",
        "\n",
        "print(X.shape)\n",
        "print(y.shape)\n",
        "\n",
        "\n",
        "plt.figure(figsize=(10,10))\n",
        "\n",
        "plt.subplot(2,2,1)\n",
        "sns.scatterplot( x = '#posts', y = 'private', hue = 'fake', data = df)\n",
        "\n",
        "plt.subplot(2,2,2)\n",
        "sns.scatterplot( x = '#follows', y = 'private', hue = 'fake', data = df)\n",
        "\n",
        "plt.subplot(2,2,3)\n",
        "sns.scatterplot( x = 'private', y = 'private', hue = 'fake', data = df)\n",
        "\n",
        "plt.subplot(2,2,4)\n",
        "sns.scatterplot( x = 'profile pic', y = 'private', hue = 'fake', data = df)\n",
        "\n",
        "plt.show()"
      ],
      "execution_count": 48,
      "outputs": [
        {
          "output_type": "stream",
          "text": [
            "(100, 11)\n",
            "(100, 1)\n"
          ],
          "name": "stdout"
        },
        {
          "output_type": "display_data",
          "data": {
            "image/png": "[encoded data removed]",
            "text/plain": [
              "<Figure size 720x720 with 4 Axes>"
            ]
          },
          "metadata": {
            "tags": []
          }
        }
      ]
    },
    {
      "cell_type": "code",
      "metadata": {
        "id": "CDXpiIpeWjZO",
        "colab_type": "code",
        "colab": {}
      },
      "source": [
        ""
      ],
      "execution_count": 0,
      "outputs": []
    },
    {
      "cell_type": "code",
      "metadata": {
        "id": "PFPrcwwSYWdE",
        "colab_type": "code",
        "outputId": "7169fcb0-eb82-4c11-b412-db0d3b7f65ea",
        "colab": {
          "base_uri": "https://localhost:8080/",
          "height": 122
        }
      },
      "source": [
        "# Import train_test_split from scikit library\n",
        "\n",
        "from sklearn.datasets import make_classification\n",
        "from sklearn.model_selection import train_test_split\n",
        "X_train, X_test, y_train, y_test = train_test_split(normalized_X, y, test_size = 0.35)\n",
        "\n",
        "# Fitting K-NN to the Training set\n",
        "from sklearn.neighbors import KNeighborsClassifier\n",
        "from sklearn.metrics import classification_report, confusion_matrix\n",
        "\n",
        "classifier = KNeighborsClassifier(n_neighbors = 5, metric = 'minkowski', p = 2)\n",
        "classifier.fit(X_train, y_train)"
      ],
      "execution_count": 62,
      "outputs": [
        {
          "output_type": "stream",
          "text": [
            "/usr/local/lib/python3.6/dist-packages/ipykernel_launcher.py:11: DataConversionWarning: A column-vector y was passed when a 1d array was expected. Please change the shape of y to (n_samples, ), for example using ravel().\n",
            "  # This is added back by InteractiveShellApp.init_path()\n"
          ],
          "name": "stderr"
        },
        {
          "output_type": "execute_result",
          "data": {
            "text/plain": [
              "KNeighborsClassifier(algorithm='auto', leaf_size=30, metric='minkowski',\n",
              "                     metric_params=None, n_jobs=None, n_neighbors=5, p=2,\n",
              "                     weights='uniform')"
            ]
          },
          "metadata": {
            "tags": []
          },
          "execution_count": 62
        }
      ]
    },
    {
      "cell_type": "code",
      "metadata": {
        "id": "mPPUjqHZSysq",
        "colab_type": "code",
        "outputId": "8c325678-9ebf-4562-91a9-05b3921dba33",
        "colab": {
          "base_uri": "https://localhost:8080/",
          "height": 422
        }
      },
      "source": [
        "\n",
        "y_predict = classifier.predict(X_test)\n",
        "cm = confusion_matrix(y_test, y_predict)\n",
        "sns.heatmap(cm, annot=True, fmt=\"d\")\n",
        "\n",
        "print(classification_report(y_test, y_predict))\n"
      ],
      "execution_count": 63,
      "outputs": [
        {
          "output_type": "stream",
          "text": [
            "              precision    recall  f1-score   support\n",
            "\n",
            "           0       0.83      0.94      0.88        16\n",
            "           1       0.94      0.84      0.89        19\n",
            "\n",
            "    accuracy                           0.89        35\n",
            "   macro avg       0.89      0.89      0.89        35\n",
            "weighted avg       0.89      0.89      0.89        35\n",
            "\n"
          ],
          "name": "stdout"
        },
        {
          "output_type": "display_data",
          "data": {
            "image/png": "[encoded data removed]",
            "text/plain": [
              "<Figure size 432x288 with 2 Axes>"
            ]
          },
          "metadata": {
            "tags": []
          }
        }
      ]
    },
    {
      "cell_type": "code",
      "metadata": {
        "id": "RN0GhfTqzXEe",
        "colab_type": "code",
        "outputId": "cc188661-14fd-4188-89f4-c44de608451b",
        "colab": {
          "base_uri": "https://localhost:8080/",
          "height": 122
        }
      },
      "source": [
        "# Fitting K-NN to the Training set\n",
        "from sklearn.neighbors import KNeighborsClassifier\n",
        "from sklearn.metrics import classification_report, confusion_matrix\n",
        "\n",
        "classifier = KNeighborsClassifier(n_neighbors = 12, metric = 'minkowski', p = 2)\n",
        "classifier.fit(X_train, y_train)\n",
        "\n"
      ],
      "execution_count": 64,
      "outputs": [
        {
          "output_type": "stream",
          "text": [
            "/usr/local/lib/python3.6/dist-packages/ipykernel_launcher.py:5: DataConversionWarning: A column-vector y was passed when a 1d array was expected. Please change the shape of y to (n_samples, ), for example using ravel().\n",
            "  \"\"\"\n"
          ],
          "name": "stderr"
        },
        {
          "output_type": "execute_result",
          "data": {
            "text/plain": [
              "KNeighborsClassifier(algorithm='auto', leaf_size=30, metric='minkowski',\n",
              "                     metric_params=None, n_jobs=None, n_neighbors=12, p=2,\n",
              "                     weights='uniform')"
            ]
          },
          "metadata": {
            "tags": []
          },
          "execution_count": 64
        }
      ]
    },
    {
      "cell_type": "code",
      "metadata": {
        "id": "aPyo5x1O4htO",
        "colab_type": "code",
        "outputId": "882757d4-0f87-4090-ebba-0aadc2593287",
        "colab": {
          "base_uri": "https://localhost:8080/",
          "height": 286
        }
      },
      "source": [
        "y_predict = classifier.predict(X_test)\n",
        "cm = confusion_matrix(y_test, y_predict)\n",
        "sns.heatmap(cm, annot=True, fmt=\"d\")\n"
      ],
      "execution_count": 65,
      "outputs": [
        {
          "output_type": "execute_result",
          "data": {
            "text/plain": [
              "<matplotlib.axes._subplots.AxesSubplot at 0x7f9a366a0cc0>"
            ]
          },
          "metadata": {
            "tags": []
          },
          "execution_count": 65
        },
        {
          "output_type": "display_data",
          "data": {
            "image/png": "[encoded data removed]",
            "text/plain": [
              "<Figure size 432x288 with 2 Axes>"
            ]
          },
          "metadata": {
            "tags": []
          }
        }
      ]
    },
    {
      "cell_type": "code",
      "metadata": {
        "id": "PVmRYLozzFwI",
        "colab_type": "code",
        "outputId": "0985b933-c204-4f23-ef3a-d28b40a539f5",
        "colab": {
          "base_uri": "https://localhost:8080/",
          "height": 88
        }
      },
      "source": [
        "X = df.drop(['fake'],axis=1)\n",
        "X = df.drop(['nums/length username'],axis=1)\n",
        "X = df.drop(['fullname words'],axis=1)\n",
        "X = df.drop(['nums/length fullname'],axis=1)\n",
        "X = df.drop(['external URL'],axis=1)\n",
        "\n",
        "\n",
        "\n",
        "# Fitting K-NN to the Training set\n",
        "from sklearn.neighbors import KNeighborsClassifier\n",
        "from sklearn.metrics import classification_report, confusion_matrix\n",
        "\n",
        "classifier = KNeighborsClassifier(n_neighbors = 8, metric = 'minkowski', p = 2)\n",
        "classifier.fit(X_train, y_train)\n",
        "\n",
        "X_train.shape\n",
        "\n"
      ],
      "execution_count": 66,
      "outputs": [
        {
          "output_type": "stream",
          "text": [
            "/usr/local/lib/python3.6/dist-packages/ipykernel_launcher.py:14: DataConversionWarning: A column-vector y was passed when a 1d array was expected. Please change the shape of y to (n_samples, ), for example using ravel().\n",
            "  \n"
          ],
          "name": "stderr"
        },
        {
          "output_type": "execute_result",
          "data": {
            "text/plain": [
              "(65, 11)"
            ]
          },
          "metadata": {
            "tags": []
          },
          "execution_count": 66
        }
      ]
    },
    {
      "cell_type": "code",
      "metadata": {
        "id": "mp7Ke2nX0D0j",
        "colab_type": "code",
        "outputId": "37a93a13-898c-476c-dab4-82e67af313b6",
        "colab": {
          "base_uri": "https://localhost:8080/",
          "height": 422
        }
      },
      "source": [
        "y_predict = classifier.predict(X_test) #new imput from webcraping\n",
        "cm = confusion_matrix(y_test, y_predict)\n",
        "sns.heatmap(cm, annot=True, fmt=\"d\")\n",
        "\n",
        "print(classification_report(y_test, y_predict))\n"
      ],
      "execution_count": 67,
      "outputs": [
        {
          "output_type": "stream",
          "text": [
            "              precision    recall  f1-score   support\n",
            "\n",
            "           0       0.80      1.00      0.89        16\n",
            "           1       1.00      0.79      0.88        19\n",
            "\n",
            "    accuracy                           0.89        35\n",
            "   macro avg       0.90      0.89      0.89        35\n",
            "weighted avg       0.91      0.89      0.89        35\n",
            "\n"
          ],
          "name": "stdout"
        },
        {
          "output_type": "display_data",
          "data": {
            "image/png": "[encoded data removed]",
            "text/plain": [
              "<Figure size 432x288 with 2 Axes>"
            ]
          },
          "metadata": {
            "tags": []
          }
        }
      ]
    },
    {
      "cell_type": "code",
      "metadata": {
        "id": "xeQV6XAQsqzV",
        "colab_type": "code",
        "colab": {}
      },
      "source": [
        "\n",
        "from matplotlib import style\n",
        "style.use(\"ggplot\")\n",
        "\n",
        "# Create the SVC Model\n",
        "from sklearn.svm import SVC \n",
        "# model = SVC(kernel='linear')\n",
        "# print(model)\n",
        "\n",
        "\n",
        "# Create the GridSearch estimator along with a parameter object containing the values to adjust\n",
        "from sklearn.model_selection import GridSearchCV\n",
        "param_grid = {'n_neighbors': [2,3,4],\n",
        "              'metric': [\"minkowski\", 'cosine', 'euclidean'],\n",
        "             'p': [2, 3, 4]}\n",
        "\n",
        "grid = GridSearchCV(classifier, param_grid, verbose=3)"
      ],
      "execution_count": 0,
      "outputs": []
    },
    {
      "cell_type": "code",
      "metadata": {
        "id": "1PbVlyNFi8F5",
        "colab_type": "code",
        "colab": {
          "base_uri": "https://localhost:8080/",
          "height": 5919
        },
        "outputId": "98d3e261-fb3e-4d04-ee27-3fcf76a31bc1"
      },
      "source": [
        "# Fit the model using the grid search estimator. \n",
        "# This will take the SVC model and try each combination of parameters\n",
        "grid.fit(X_train, y_train)"
      ],
      "execution_count": 80,
      "outputs": [
        {
          "output_type": "stream",
          "text": [
            "/usr/local/lib/python3.6/dist-packages/sklearn/model_selection/_split.py:1978: FutureWarning: The default value of cv will change from 3 to 5 in version 0.22. Specify it explicitly to silence this warning.\n",
            "  warnings.warn(CV_WARNING, FutureWarning)\n",
            "[Parallel(n_jobs=1)]: Using backend SequentialBackend with 1 concurrent workers.\n",
            "/usr/local/lib/python3.6/dist-packages/sklearn/model_selection/_validation.py:514: DataConversionWarning: A column-vector y was passed when a 1d array was expected. Please change the shape of y to (n_samples, ), for example using ravel().\n",
            "  estimator.fit(X_train, y_train, **fit_params)\n",
            "[Parallel(n_jobs=1)]: Done   1 out of   1 | elapsed:    0.0s remaining:    0.0s\n",
            "/usr/local/lib/python3.6/dist-packages/sklearn/model_selection/_validation.py:514: DataConversionWarning: A column-vector y was passed when a 1d array was expected. Please change the shape of y to (n_samples, ), for example using ravel().\n",
            "  estimator.fit(X_train, y_train, **fit_params)\n",
            "[Parallel(n_jobs=1)]: Done   2 out of   2 | elapsed:    0.0s remaining:    0.0s\n",
            "/usr/local/lib/python3.6/dist-packages/sklearn/model_selection/_validation.py:514: DataConversionWarning: A column-vector y was passed when a 1d array was expected. Please change the shape of y to (n_samples, ), for example using ravel().\n",
            "  estimator.fit(X_train, y_train, **fit_params)\n",
            "/usr/local/lib/python3.6/dist-packages/sklearn/model_selection/_validation.py:514: DataConversionWarning: A column-vector y was passed when a 1d array was expected. Please change the shape of y to (n_samples, ), for example using ravel().\n",
            "  estimator.fit(X_train, y_train, **fit_params)\n",
            "/usr/local/lib/python3.6/dist-packages/sklearn/model_selection/_validation.py:514: DataConversionWarning: A column-vector y was passed when a 1d array was expected. Please change the shape of y to (n_samples, ), for example using ravel().\n",
            "  estimator.fit(X_train, y_train, **fit_params)\n",
            "/usr/local/lib/python3.6/dist-packages/sklearn/model_selection/_validation.py:514: DataConversionWarning: A column-vector y was passed when a 1d array was expected. Please change the shape of y to (n_samples, ), for example using ravel().\n",
            "  estimator.fit(X_train, y_train, **fit_params)\n",
            "/usr/local/lib/python3.6/dist-packages/sklearn/model_selection/_validation.py:514: DataConversionWarning: A column-vector y was passed when a 1d array was expected. Please change the shape of y to (n_samples, ), for example using ravel().\n",
            "  estimator.fit(X_train, y_train, **fit_params)\n",
            "/usr/local/lib/python3.6/dist-packages/sklearn/model_selection/_validation.py:514: DataConversionWarning: A column-vector y was passed when a 1d array was expected. Please change the shape of y to (n_samples, ), for example using ravel().\n",
            "  estimator.fit(X_train, y_train, **fit_params)\n",
            "/usr/local/lib/python3.6/dist-packages/sklearn/model_selection/_validation.py:514: DataConversionWarning: A column-vector y was passed when a 1d array was expected. Please change the shape of y to (n_samples, ), for example using ravel().\n",
            "  estimator.fit(X_train, y_train, **fit_params)\n",
            "/usr/local/lib/python3.6/dist-packages/sklearn/model_selection/_validation.py:514: DataConversionWarning: A column-vector y was passed when a 1d array was expected. Please change the shape of y to (n_samples, ), for example using ravel().\n",
            "  estimator.fit(X_train, y_train, **fit_params)\n",
            "/usr/local/lib/python3.6/dist-packages/sklearn/model_selection/_validation.py:514: DataConversionWarning: A column-vector y was passed when a 1d array was expected. Please change the shape of y to (n_samples, ), for example using ravel().\n",
            "  estimator.fit(X_train, y_train, **fit_params)\n",
            "/usr/local/lib/python3.6/dist-packages/sklearn/model_selection/_validation.py:514: DataConversionWarning: A column-vector y was passed when a 1d array was expected. Please change the shape of y to (n_samples, ), for example using ravel().\n",
            "  estimator.fit(X_train, y_train, **fit_params)\n",
            "/usr/local/lib/python3.6/dist-packages/sklearn/model_selection/_validation.py:514: DataConversionWarning: A column-vector y was passed when a 1d array was expected. Please change the shape of y to (n_samples, ), for example using ravel().\n",
            "  estimator.fit(X_train, y_train, **fit_params)\n",
            "/usr/local/lib/python3.6/dist-packages/sklearn/model_selection/_validation.py:514: DataConversionWarning: A column-vector y was passed when a 1d array was expected. Please change the shape of y to (n_samples, ), for example using ravel().\n",
            "  estimator.fit(X_train, y_train, **fit_params)\n",
            "/usr/local/lib/python3.6/dist-packages/sklearn/model_selection/_validation.py:514: DataConversionWarning: A column-vector y was passed when a 1d array was expected. Please change the shape of y to (n_samples, ), for example using ravel().\n",
            "  estimator.fit(X_train, y_train, **fit_params)\n",
            "/usr/local/lib/python3.6/dist-packages/sklearn/model_selection/_validation.py:514: DataConversionWarning: A column-vector y was passed when a 1d array was expected. Please change the shape of y to (n_samples, ), for example using ravel().\n",
            "  estimator.fit(X_train, y_train, **fit_params)\n",
            "/usr/local/lib/python3.6/dist-packages/sklearn/model_selection/_validation.py:514: DataConversionWarning: A column-vector y was passed when a 1d array was expected. Please change the shape of y to (n_samples, ), for example using ravel().\n",
            "  estimator.fit(X_train, y_train, **fit_params)\n",
            "/usr/local/lib/python3.6/dist-packages/sklearn/model_selection/_validation.py:514: DataConversionWarning: A column-vector y was passed when a 1d array was expected. Please change the shape of y to (n_samples, ), for example using ravel().\n",
            "  estimator.fit(X_train, y_train, **fit_params)\n",
            "/usr/local/lib/python3.6/dist-packages/sklearn/model_selection/_validation.py:514: DataConversionWarning: A column-vector y was passed when a 1d array was expected. Please change the shape of y to (n_samples, ), for example using ravel().\n",
            "  estimator.fit(X_train, y_train, **fit_params)\n",
            "/usr/local/lib/python3.6/dist-packages/sklearn/model_selection/_validation.py:514: DataConversionWarning: A column-vector y was passed when a 1d array was expected. Please change the shape of y to (n_samples, ), for example using ravel().\n",
            "  estimator.fit(X_train, y_train, **fit_params)\n",
            "/usr/local/lib/python3.6/dist-packages/sklearn/model_selection/_validation.py:514: DataConversionWarning: A column-vector y was passed when a 1d array was expected. Please change the shape of y to (n_samples, ), for example using ravel().\n",
            "  estimator.fit(X_train, y_train, **fit_params)\n",
            "/usr/local/lib/python3.6/dist-packages/sklearn/model_selection/_validation.py:514: DataConversionWarning: A column-vector y was passed when a 1d array was expected. Please change the shape of y to (n_samples, ), for example using ravel().\n",
            "  estimator.fit(X_train, y_train, **fit_params)\n",
            "/usr/local/lib/python3.6/dist-packages/sklearn/model_selection/_validation.py:514: DataConversionWarning: A column-vector y was passed when a 1d array was expected. Please change the shape of y to (n_samples, ), for example using ravel().\n",
            "  estimator.fit(X_train, y_train, **fit_params)\n",
            "/usr/local/lib/python3.6/dist-packages/sklearn/model_selection/_validation.py:514: DataConversionWarning: A column-vector y was passed when a 1d array was expected. Please change the shape of y to (n_samples, ), for example using ravel().\n",
            "  estimator.fit(X_train, y_train, **fit_params)\n",
            "/usr/local/lib/python3.6/dist-packages/sklearn/model_selection/_validation.py:514: DataConversionWarning: A column-vector y was passed when a 1d array was expected. Please change the shape of y to (n_samples, ), for example using ravel().\n",
            "  estimator.fit(X_train, y_train, **fit_params)\n",
            "/usr/local/lib/python3.6/dist-packages/sklearn/model_selection/_validation.py:514: DataConversionWarning: A column-vector y was passed when a 1d array was expected. Please change the shape of y to (n_samples, ), for example using ravel().\n",
            "  estimator.fit(X_train, y_train, **fit_params)\n",
            "/usr/local/lib/python3.6/dist-packages/sklearn/model_selection/_validation.py:514: DataConversionWarning: A column-vector y was passed when a 1d array was expected. Please change the shape of y to (n_samples, ), for example using ravel().\n",
            "  estimator.fit(X_train, y_train, **fit_params)\n",
            "/usr/local/lib/python3.6/dist-packages/sklearn/model_selection/_validation.py:514: DataConversionWarning: A column-vector y was passed when a 1d array was expected. Please change the shape of y to (n_samples, ), for example using ravel().\n",
            "  estimator.fit(X_train, y_train, **fit_params)\n",
            "/usr/local/lib/python3.6/dist-packages/sklearn/model_selection/_validation.py:514: DataConversionWarning: A column-vector y was passed when a 1d array was expected. Please change the shape of y to (n_samples, ), for example using ravel().\n",
            "  estimator.fit(X_train, y_train, **fit_params)\n",
            "/usr/local/lib/python3.6/dist-packages/sklearn/model_selection/_validation.py:514: DataConversionWarning: A column-vector y was passed when a 1d array was expected. Please change the shape of y to (n_samples, ), for example using ravel().\n",
            "  estimator.fit(X_train, y_train, **fit_params)\n",
            "/usr/local/lib/python3.6/dist-packages/sklearn/model_selection/_validation.py:514: DataConversionWarning: A column-vector y was passed when a 1d array was expected. Please change the shape of y to (n_samples, ), for example using ravel().\n",
            "  estimator.fit(X_train, y_train, **fit_params)\n",
            "/usr/local/lib/python3.6/dist-packages/sklearn/model_selection/_validation.py:514: DataConversionWarning: A column-vector y was passed when a 1d array was expected. Please change the shape of y to (n_samples, ), for example using ravel().\n",
            "  estimator.fit(X_train, y_train, **fit_params)\n",
            "/usr/local/lib/python3.6/dist-packages/sklearn/model_selection/_validation.py:514: DataConversionWarning: A column-vector y was passed when a 1d array was expected. Please change the shape of y to (n_samples, ), for example using ravel().\n",
            "  estimator.fit(X_train, y_train, **fit_params)\n",
            "/usr/local/lib/python3.6/dist-packages/sklearn/model_selection/_validation.py:514: DataConversionWarning: A column-vector y was passed when a 1d array was expected. Please change the shape of y to (n_samples, ), for example using ravel().\n",
            "  estimator.fit(X_train, y_train, **fit_params)\n",
            "/usr/local/lib/python3.6/dist-packages/sklearn/model_selection/_validation.py:514: DataConversionWarning: A column-vector y was passed when a 1d array was expected. Please change the shape of y to (n_samples, ), for example using ravel().\n",
            "  estimator.fit(X_train, y_train, **fit_params)\n",
            "/usr/local/lib/python3.6/dist-packages/sklearn/model_selection/_validation.py:514: DataConversionWarning: A column-vector y was passed when a 1d array was expected. Please change the shape of y to (n_samples, ), for example using ravel().\n",
            "  estimator.fit(X_train, y_train, **fit_params)\n",
            "/usr/local/lib/python3.6/dist-packages/sklearn/model_selection/_validation.py:514: DataConversionWarning: A column-vector y was passed when a 1d array was expected. Please change the shape of y to (n_samples, ), for example using ravel().\n",
            "  estimator.fit(X_train, y_train, **fit_params)\n",
            "/usr/local/lib/python3.6/dist-packages/sklearn/model_selection/_validation.py:514: DataConversionWarning: A column-vector y was passed when a 1d array was expected. Please change the shape of y to (n_samples, ), for example using ravel().\n",
            "  estimator.fit(X_train, y_train, **fit_params)\n",
            "/usr/local/lib/python3.6/dist-packages/sklearn/model_selection/_validation.py:514: DataConversionWarning: A column-vector y was passed when a 1d array was expected. Please change the shape of y to (n_samples, ), for example using ravel().\n",
            "  estimator.fit(X_train, y_train, **fit_params)\n",
            "/usr/local/lib/python3.6/dist-packages/sklearn/model_selection/_validation.py:514: DataConversionWarning: A column-vector y was passed when a 1d array was expected. Please change the shape of y to (n_samples, ), for example using ravel().\n",
            "  estimator.fit(X_train, y_train, **fit_params)\n",
            "/usr/local/lib/python3.6/dist-packages/sklearn/model_selection/_validation.py:514: DataConversionWarning: A column-vector y was passed when a 1d array was expected. Please change the shape of y to (n_samples, ), for example using ravel().\n",
            "  estimator.fit(X_train, y_train, **fit_params)\n",
            "/usr/local/lib/python3.6/dist-packages/sklearn/model_selection/_validation.py:514: DataConversionWarning: A column-vector y was passed when a 1d array was expected. Please change the shape of y to (n_samples, ), for example using ravel().\n",
            "  estimator.fit(X_train, y_train, **fit_params)\n",
            "/usr/local/lib/python3.6/dist-packages/sklearn/model_selection/_validation.py:514: DataConversionWarning: A column-vector y was passed when a 1d array was expected. Please change the shape of y to (n_samples, ), for example using ravel().\n",
            "  estimator.fit(X_train, y_train, **fit_params)\n",
            "/usr/local/lib/python3.6/dist-packages/sklearn/model_selection/_validation.py:514: DataConversionWarning: A column-vector y was passed when a 1d array was expected. Please change the shape of y to (n_samples, ), for example using ravel().\n",
            "  estimator.fit(X_train, y_train, **fit_params)\n",
            "/usr/local/lib/python3.6/dist-packages/sklearn/model_selection/_validation.py:514: DataConversionWarning: A column-vector y was passed when a 1d array was expected. Please change the shape of y to (n_samples, ), for example using ravel().\n",
            "  estimator.fit(X_train, y_train, **fit_params)\n",
            "/usr/local/lib/python3.6/dist-packages/sklearn/model_selection/_validation.py:514: DataConversionWarning: A column-vector y was passed when a 1d array was expected. Please change the shape of y to (n_samples, ), for example using ravel().\n",
            "  estimator.fit(X_train, y_train, **fit_params)\n",
            "/usr/local/lib/python3.6/dist-packages/sklearn/model_selection/_validation.py:514: DataConversionWarning: A column-vector y was passed when a 1d array was expected. Please change the shape of y to (n_samples, ), for example using ravel().\n",
            "  estimator.fit(X_train, y_train, **fit_params)\n",
            "/usr/local/lib/python3.6/dist-packages/sklearn/model_selection/_validation.py:514: DataConversionWarning: A column-vector y was passed when a 1d array was expected. Please change the shape of y to (n_samples, ), for example using ravel().\n",
            "  estimator.fit(X_train, y_train, **fit_params)\n",
            "/usr/local/lib/python3.6/dist-packages/sklearn/model_selection/_validation.py:514: DataConversionWarning: A column-vector y was passed when a 1d array was expected. Please change the shape of y to (n_samples, ), for example using ravel().\n",
            "  estimator.fit(X_train, y_train, **fit_params)\n",
            "/usr/local/lib/python3.6/dist-packages/sklearn/model_selection/_validation.py:514: DataConversionWarning: A column-vector y was passed when a 1d array was expected. Please change the shape of y to (n_samples, ), for example using ravel().\n",
            "  estimator.fit(X_train, y_train, **fit_params)\n",
            "/usr/local/lib/python3.6/dist-packages/sklearn/model_selection/_validation.py:514: DataConversionWarning: A column-vector y was passed when a 1d array was expected. Please change the shape of y to (n_samples, ), for example using ravel().\n",
            "  estimator.fit(X_train, y_train, **fit_params)\n",
            "/usr/local/lib/python3.6/dist-packages/sklearn/model_selection/_validation.py:514: DataConversionWarning: A column-vector y was passed when a 1d array was expected. Please change the shape of y to (n_samples, ), for example using ravel().\n",
            "  estimator.fit(X_train, y_train, **fit_params)\n",
            "/usr/local/lib/python3.6/dist-packages/sklearn/model_selection/_validation.py:514: DataConversionWarning: A column-vector y was passed when a 1d array was expected. Please change the shape of y to (n_samples, ), for example using ravel().\n",
            "  estimator.fit(X_train, y_train, **fit_params)\n",
            "/usr/local/lib/python3.6/dist-packages/sklearn/model_selection/_validation.py:514: DataConversionWarning: A column-vector y was passed when a 1d array was expected. Please change the shape of y to (n_samples, ), for example using ravel().\n",
            "  estimator.fit(X_train, y_train, **fit_params)\n",
            "/usr/local/lib/python3.6/dist-packages/sklearn/model_selection/_validation.py:514: DataConversionWarning: A column-vector y was passed when a 1d array was expected. Please change the shape of y to (n_samples, ), for example using ravel().\n",
            "  estimator.fit(X_train, y_train, **fit_params)\n",
            "/usr/local/lib/python3.6/dist-packages/sklearn/model_selection/_validation.py:514: DataConversionWarning: A column-vector y was passed when a 1d array was expected. Please change the shape of y to (n_samples, ), for example using ravel().\n",
            "  estimator.fit(X_train, y_train, **fit_params)\n",
            "/usr/local/lib/python3.6/dist-packages/sklearn/model_selection/_validation.py:514: DataConversionWarning: A column-vector y was passed when a 1d array was expected. Please change the shape of y to (n_samples, ), for example using ravel().\n",
            "  estimator.fit(X_train, y_train, **fit_params)\n",
            "/usr/local/lib/python3.6/dist-packages/sklearn/model_selection/_validation.py:514: DataConversionWarning: A column-vector y was passed when a 1d array was expected. Please change the shape of y to (n_samples, ), for example using ravel().\n",
            "  estimator.fit(X_train, y_train, **fit_params)\n",
            "/usr/local/lib/python3.6/dist-packages/sklearn/model_selection/_validation.py:514: DataConversionWarning: A column-vector y was passed when a 1d array was expected. Please change the shape of y to (n_samples, ), for example using ravel().\n",
            "  estimator.fit(X_train, y_train, **fit_params)\n",
            "/usr/local/lib/python3.6/dist-packages/sklearn/model_selection/_validation.py:514: DataConversionWarning: A column-vector y was passed when a 1d array was expected. Please change the shape of y to (n_samples, ), for example using ravel().\n",
            "  estimator.fit(X_train, y_train, **fit_params)\n",
            "/usr/local/lib/python3.6/dist-packages/sklearn/model_selection/_validation.py:514: DataConversionWarning: A column-vector y was passed when a 1d array was expected. Please change the shape of y to (n_samples, ), for example using ravel().\n",
            "  estimator.fit(X_train, y_train, **fit_params)\n"
          ],
          "name": "stderr"
        },
        {
          "output_type": "stream",
          "text": [
            "Fitting 3 folds for each of 27 candidates, totalling 81 fits\n",
            "[CV] metric=minkowski, n_neighbors=2, p=2 ............................\n",
            "[CV]  metric=minkowski, n_neighbors=2, p=2, score=0.818, total=   0.0s\n",
            "[CV] metric=minkowski, n_neighbors=2, p=2 ............................\n",
            "[CV]  metric=minkowski, n_neighbors=2, p=2, score=0.909, total=   0.0s\n",
            "[CV] metric=minkowski, n_neighbors=2, p=2 ............................\n",
            "[CV]  metric=minkowski, n_neighbors=2, p=2, score=0.857, total=   0.0s\n",
            "[CV] metric=minkowski, n_neighbors=2, p=3 ............................\n",
            "[CV]  metric=minkowski, n_neighbors=2, p=3, score=0.864, total=   0.0s\n",
            "[CV] metric=minkowski, n_neighbors=2, p=3 ............................\n",
            "[CV]  metric=minkowski, n_neighbors=2, p=3, score=0.909, total=   0.0s\n",
            "[CV] metric=minkowski, n_neighbors=2, p=3 ............................\n",
            "[CV]  metric=minkowski, n_neighbors=2, p=3, score=0.857, total=   0.0s\n",
            "[CV] metric=minkowski, n_neighbors=2, p=4 ............................\n",
            "[CV]  metric=minkowski, n_neighbors=2, p=4, score=0.864, total=   0.0s\n",
            "[CV] metric=minkowski, n_neighbors=2, p=4 ............................\n",
            "[CV]  metric=minkowski, n_neighbors=2, p=4, score=0.909, total=   0.0s\n",
            "[CV] metric=minkowski, n_neighbors=2, p=4 ............................\n",
            "[CV]  metric=minkowski, n_neighbors=2, p=4, score=0.857, total=   0.0s\n",
            "[CV] metric=minkowski, n_neighbors=3, p=2 ............................\n",
            "[CV]  metric=minkowski, n_neighbors=3, p=2, score=0.818, total=   0.0s\n",
            "[CV] metric=minkowski, n_neighbors=3, p=2 ............................\n",
            "[CV]  metric=minkowski, n_neighbors=3, p=2, score=0.955, total=   0.0s\n",
            "[CV] metric=minkowski, n_neighbors=3, p=2 ............................\n",
            "[CV]  metric=minkowski, n_neighbors=3, p=2, score=0.857, total=   0.0s\n",
            "[CV] metric=minkowski, n_neighbors=3, p=3 ............................\n",
            "[CV]  metric=minkowski, n_neighbors=3, p=3, score=0.864, total=   0.0s\n",
            "[CV] metric=minkowski, n_neighbors=3, p=3 ............................\n",
            "[CV]  metric=minkowski, n_neighbors=3, p=3, score=0.955, total=   0.0s\n",
            "[CV] metric=minkowski, n_neighbors=3, p=3 ............................\n",
            "[CV]  metric=minkowski, n_neighbors=3, p=3, score=0.905, total=   0.0s\n",
            "[CV] metric=minkowski, n_neighbors=3, p=4 ............................\n",
            "[CV]  metric=minkowski, n_neighbors=3, p=4, score=0.909, total=   0.0s\n",
            "[CV] metric=minkowski, n_neighbors=3, p=4 ............................\n",
            "[CV]  metric=minkowski, n_neighbors=3, p=4, score=0.955, total=   0.0s\n",
            "[CV] metric=minkowski, n_neighbors=3, p=4 ............................\n",
            "[CV]  metric=minkowski, n_neighbors=3, p=4, score=0.905, total=   0.0s\n",
            "[CV] metric=minkowski, n_neighbors=4, p=2 ............................\n",
            "[CV]  metric=minkowski, n_neighbors=4, p=2, score=0.864, total=   0.0s\n",
            "[CV] metric=minkowski, n_neighbors=4, p=2 ............................\n",
            "[CV]  metric=minkowski, n_neighbors=4, p=2, score=0.955, total=   0.0s\n",
            "[CV] metric=minkowski, n_neighbors=4, p=2 ............................\n",
            "[CV]  metric=minkowski, n_neighbors=4, p=2, score=0.857, total=   0.0s\n",
            "[CV] metric=minkowski, n_neighbors=4, p=3 ............................\n",
            "[CV]  metric=minkowski, n_neighbors=4, p=3, score=0.864, total=   0.0s\n",
            "[CV] metric=minkowski, n_neighbors=4, p=3 ............................\n",
            "[CV]  metric=minkowski, n_neighbors=4, p=3, score=0.955, total=   0.0s\n",
            "[CV] metric=minkowski, n_neighbors=4, p=3 ............................\n",
            "[CV]  metric=minkowski, n_neighbors=4, p=3, score=0.905, total=   0.0s\n",
            "[CV] metric=minkowski, n_neighbors=4, p=4 ............................\n",
            "[CV]  metric=minkowski, n_neighbors=4, p=4, score=0.864, total=   0.0s\n",
            "[CV] metric=minkowski, n_neighbors=4, p=4 ............................\n",
            "[CV]  metric=minkowski, n_neighbors=4, p=4, score=0.955, total=   0.0s\n",
            "[CV] metric=minkowski, n_neighbors=4, p=4 ............................\n",
            "[CV]  metric=minkowski, n_neighbors=4, p=4, score=0.905, total=   0.0s\n",
            "[CV] metric=cosine, n_neighbors=2, p=2 ...............................\n",
            "[CV] ... metric=cosine, n_neighbors=2, p=2, score=0.864, total=   0.0s\n",
            "[CV] metric=cosine, n_neighbors=2, p=2 ...............................\n",
            "[CV] ... metric=cosine, n_neighbors=2, p=2, score=0.818, total=   0.0s\n",
            "[CV] metric=cosine, n_neighbors=2, p=2 ...............................\n",
            "[CV] ... metric=cosine, n_neighbors=2, p=2, score=0.762, total=   0.0s\n",
            "[CV] metric=cosine, n_neighbors=2, p=3 ...............................\n",
            "[CV] ... metric=cosine, n_neighbors=2, p=3, score=0.864, total=   0.0s\n",
            "[CV] metric=cosine, n_neighbors=2, p=3 ...............................\n",
            "[CV] ... metric=cosine, n_neighbors=2, p=3, score=0.818, total=   0.0s\n",
            "[CV] metric=cosine, n_neighbors=2, p=3 ...............................\n",
            "[CV] ... metric=cosine, n_neighbors=2, p=3, score=0.762, total=   0.0s\n",
            "[CV] metric=cosine, n_neighbors=2, p=4 ...............................\n",
            "[CV] ... metric=cosine, n_neighbors=2, p=4, score=0.864, total=   0.0s\n",
            "[CV] metric=cosine, n_neighbors=2, p=4 ...............................\n",
            "[CV] ... metric=cosine, n_neighbors=2, p=4, score=0.818, total=   0.0s\n",
            "[CV] metric=cosine, n_neighbors=2, p=4 ...............................\n",
            "[CV] ... metric=cosine, n_neighbors=2, p=4, score=0.762, total=   0.0s\n",
            "[CV] metric=cosine, n_neighbors=3, p=2 ...............................\n",
            "[CV] ... metric=cosine, n_neighbors=3, p=2, score=0.909, total=   0.0s\n",
            "[CV] metric=cosine, n_neighbors=3, p=2 ...............................\n",
            "[CV] ... metric=cosine, n_neighbors=3, p=2, score=0.864, total=   0.0s\n",
            "[CV] metric=cosine, n_neighbors=3, p=2 ...............................\n",
            "[CV] ... metric=cosine, n_neighbors=3, p=2, score=0.857, total=   0.0s\n",
            "[CV] metric=cosine, n_neighbors=3, p=3 ...............................\n",
            "[CV] ... metric=cosine, n_neighbors=3, p=3, score=0.909, total=   0.0s\n",
            "[CV] metric=cosine, n_neighbors=3, p=3 ...............................\n",
            "[CV] ... metric=cosine, n_neighbors=3, p=3, score=0.864, total=   0.0s\n",
            "[CV] metric=cosine, n_neighbors=3, p=3 ...............................\n",
            "[CV] ... metric=cosine, n_neighbors=3, p=3, score=0.857, total=   0.0s\n",
            "[CV] metric=cosine, n_neighbors=3, p=4 ...............................\n",
            "[CV] ... metric=cosine, n_neighbors=3, p=4, score=0.909, total=   0.0s\n",
            "[CV] metric=cosine, n_neighbors=3, p=4 ...............................\n",
            "[CV] ... metric=cosine, n_neighbors=3, p=4, score=0.864, total=   0.0s\n",
            "[CV] metric=cosine, n_neighbors=3, p=4 ...............................\n",
            "[CV] ... metric=cosine, n_neighbors=3, p=4, score=0.857, total=   0.0s\n",
            "[CV] metric=cosine, n_neighbors=4, p=2 ...............................\n",
            "[CV] ... metric=cosine, n_neighbors=4, p=2, score=0.909, total=   0.0s\n",
            "[CV] metric=cosine, n_neighbors=4, p=2 ...............................\n",
            "[CV] ... metric=cosine, n_neighbors=4, p=2, score=0.864, total=   0.0s\n",
            "[CV] metric=cosine, n_neighbors=4, p=2 ...............................\n",
            "[CV] ... metric=cosine, n_neighbors=4, p=2, score=0.857, total=   0.0s\n",
            "[CV] metric=cosine, n_neighbors=4, p=3 ...............................\n",
            "[CV] ... metric=cosine, n_neighbors=4, p=3, score=0.909, total=   0.0s\n",
            "[CV] metric=cosine, n_neighbors=4, p=3 ...............................\n",
            "[CV] ... metric=cosine, n_neighbors=4, p=3, score=0.864, total=   0.0s\n",
            "[CV] metric=cosine, n_neighbors=4, p=3 ...............................\n",
            "[CV] ... metric=cosine, n_neighbors=4, p=3, score=0.857, total=   0.0s\n",
            "[CV] metric=cosine, n_neighbors=4, p=4 ...............................\n",
            "[CV] ... metric=cosine, n_neighbors=4, p=4, score=0.909, total=   0.0s\n",
            "[CV] metric=cosine, n_neighbors=4, p=4 ...............................\n",
            "[CV] ... metric=cosine, n_neighbors=4, p=4, score=0.864, total=   0.0s\n",
            "[CV] metric=cosine, n_neighbors=4, p=4 ...............................\n",
            "[CV] ... metric=cosine, n_neighbors=4, p=4, score=0.857, total=   0.0s\n",
            "[CV] metric=euclidean, n_neighbors=2, p=2 ............................\n",
            "[CV]  metric=euclidean, n_neighbors=2, p=2, score=0.818, total=   0.0s\n",
            "[CV] metric=euclidean, n_neighbors=2, p=2 ............................\n",
            "[CV]  metric=euclidean, n_neighbors=2, p=2, score=0.909, total=   0.0s\n",
            "[CV] metric=euclidean, n_neighbors=2, p=2 ............................\n",
            "[CV]  metric=euclidean, n_neighbors=2, p=2, score=0.857, total=   0.0s\n",
            "[CV] metric=euclidean, n_neighbors=2, p=3 ............................\n",
            "[CV]  metric=euclidean, n_neighbors=2, p=3, score=0.818, total=   0.0s\n",
            "[CV] metric=euclidean, n_neighbors=2, p=3 ............................\n",
            "[CV]  metric=euclidean, n_neighbors=2, p=3, score=0.909, total=   0.0s\n",
            "[CV] metric=euclidean, n_neighbors=2, p=3 ............................\n",
            "[CV]  metric=euclidean, n_neighbors=2, p=3, score=0.857, total=   0.0s\n",
            "[CV] metric=euclidean, n_neighbors=2, p=4 ............................\n",
            "[CV]  metric=euclidean, n_neighbors=2, p=4, score=0.818, total=   0.0s\n",
            "[CV] metric=euclidean, n_neighbors=2, p=4 ............................\n",
            "[CV]  metric=euclidean, n_neighbors=2, p=4, score=0.909, total=   0.0s\n",
            "[CV] metric=euclidean, n_neighbors=2, p=4 ............................\n",
            "[CV]  metric=euclidean, n_neighbors=2, p=4, score=0.857, total=   0.0s\n",
            "[CV] metric=euclidean, n_neighbors=3, p=2 ............................\n",
            "[CV]  metric=euclidean, n_neighbors=3, p=2, score=0.818, total=   0.0s\n",
            "[CV] metric=euclidean, n_neighbors=3, p=2 ............................\n",
            "[CV]  metric=euclidean, n_neighbors=3, p=2, score=0.955, total=   0.0s\n",
            "[CV] metric=euclidean, n_neighbors=3, p=2 ............................\n",
            "[CV]  metric=euclidean, n_neighbors=3, p=2, score=0.857, total=   0.0s\n",
            "[CV] metric=euclidean, n_neighbors=3, p=3 ............................\n",
            "[CV]  metric=euclidean, n_neighbors=3, p=3, score=0.818, total=   0.0s\n",
            "[CV] metric=euclidean, n_neighbors=3, p=3 ............................\n",
            "[CV]  metric=euclidean, n_neighbors=3, p=3, score=0.955, total=   0.0s\n",
            "[CV] metric=euclidean, n_neighbors=3, p=3 ............................\n",
            "[CV]  metric=euclidean, n_neighbors=3, p=3, score=0.857, total=   0.0s\n",
            "[CV] metric=euclidean, n_neighbors=3, p=4 ............................\n",
            "[CV]  metric=euclidean, n_neighbors=3, p=4, score=0.818, total=   0.0s\n",
            "[CV] metric=euclidean, n_neighbors=3, p=4 ............................\n",
            "[CV]  metric=euclidean, n_neighbors=3, p=4, score=0.955, total=   0.0s\n",
            "[CV] metric=euclidean, n_neighbors=3, p=4 ............................\n",
            "[CV]  metric=euclidean, n_neighbors=3, p=4, score=0.857, total=   0.0s\n",
            "[CV] metric=euclidean, n_neighbors=4, p=2 ............................\n",
            "[CV]  metric=euclidean, n_neighbors=4, p=2, score=0.864, total=   0.0s\n",
            "[CV] metric=euclidean, n_neighbors=4, p=2 ............................\n",
            "[CV]  metric=euclidean, n_neighbors=4, p=2, score=0.955, total=   0.0s\n",
            "[CV] metric=euclidean, n_neighbors=4, p=2 ............................\n",
            "[CV]  metric=euclidean, n_neighbors=4, p=2, score=0.857, total=   0.0s\n",
            "[CV] metric=euclidean, n_neighbors=4, p=3 ............................\n",
            "[CV]  metric=euclidean, n_neighbors=4, p=3, score=0.864, total=   0.0s\n",
            "[CV] metric=euclidean, n_neighbors=4, p=3 ............................\n",
            "[CV]  metric=euclidean, n_neighbors=4, p=3, score=0.955, total=   0.0s\n",
            "[CV] metric=euclidean, n_neighbors=4, p=3 ............................\n",
            "[CV]  metric=euclidean, n_neighbors=4, p=3, score=0.857, total=   0.0s\n",
            "[CV] metric=euclidean, n_neighbors=4, p=4 ............................\n",
            "[CV]  metric=euclidean, n_neighbors=4, p=4, score=0.864, total=   0.0s\n",
            "[CV] metric=euclidean, n_neighbors=4, p=4 ............................\n",
            "[CV]  metric=euclidean, n_neighbors=4, p=4, score=0.955, total=   0.0s\n",
            "[CV] metric=euclidean, n_neighbors=4, p=4 ............................\n",
            "[CV]  metric=euclidean, n_neighbors=4, p=4, score=0.857, total=   0.0s\n"
          ],
          "name": "stdout"
        },
        {
          "output_type": "stream",
          "text": [
            "/usr/local/lib/python3.6/dist-packages/sklearn/model_selection/_validation.py:514: DataConversionWarning: A column-vector y was passed when a 1d array was expected. Please change the shape of y to (n_samples, ), for example using ravel().\n",
            "  estimator.fit(X_train, y_train, **fit_params)\n",
            "/usr/local/lib/python3.6/dist-packages/sklearn/model_selection/_validation.py:514: DataConversionWarning: A column-vector y was passed when a 1d array was expected. Please change the shape of y to (n_samples, ), for example using ravel().\n",
            "  estimator.fit(X_train, y_train, **fit_params)\n",
            "/usr/local/lib/python3.6/dist-packages/sklearn/model_selection/_validation.py:514: DataConversionWarning: A column-vector y was passed when a 1d array was expected. Please change the shape of y to (n_samples, ), for example using ravel().\n",
            "  estimator.fit(X_train, y_train, **fit_params)\n",
            "/usr/local/lib/python3.6/dist-packages/sklearn/model_selection/_validation.py:514: DataConversionWarning: A column-vector y was passed when a 1d array was expected. Please change the shape of y to (n_samples, ), for example using ravel().\n",
            "  estimator.fit(X_train, y_train, **fit_params)\n",
            "/usr/local/lib/python3.6/dist-packages/sklearn/model_selection/_validation.py:514: DataConversionWarning: A column-vector y was passed when a 1d array was expected. Please change the shape of y to (n_samples, ), for example using ravel().\n",
            "  estimator.fit(X_train, y_train, **fit_params)\n",
            "/usr/local/lib/python3.6/dist-packages/sklearn/model_selection/_validation.py:514: DataConversionWarning: A column-vector y was passed when a 1d array was expected. Please change the shape of y to (n_samples, ), for example using ravel().\n",
            "  estimator.fit(X_train, y_train, **fit_params)\n",
            "/usr/local/lib/python3.6/dist-packages/sklearn/model_selection/_validation.py:514: DataConversionWarning: A column-vector y was passed when a 1d array was expected. Please change the shape of y to (n_samples, ), for example using ravel().\n",
            "  estimator.fit(X_train, y_train, **fit_params)\n",
            "/usr/local/lib/python3.6/dist-packages/sklearn/model_selection/_validation.py:514: DataConversionWarning: A column-vector y was passed when a 1d array was expected. Please change the shape of y to (n_samples, ), for example using ravel().\n",
            "  estimator.fit(X_train, y_train, **fit_params)\n",
            "/usr/local/lib/python3.6/dist-packages/sklearn/model_selection/_validation.py:514: DataConversionWarning: A column-vector y was passed when a 1d array was expected. Please change the shape of y to (n_samples, ), for example using ravel().\n",
            "  estimator.fit(X_train, y_train, **fit_params)\n",
            "/usr/local/lib/python3.6/dist-packages/sklearn/model_selection/_validation.py:514: DataConversionWarning: A column-vector y was passed when a 1d array was expected. Please change the shape of y to (n_samples, ), for example using ravel().\n",
            "  estimator.fit(X_train, y_train, **fit_params)\n",
            "/usr/local/lib/python3.6/dist-packages/sklearn/model_selection/_validation.py:514: DataConversionWarning: A column-vector y was passed when a 1d array was expected. Please change the shape of y to (n_samples, ), for example using ravel().\n",
            "  estimator.fit(X_train, y_train, **fit_params)\n",
            "/usr/local/lib/python3.6/dist-packages/sklearn/model_selection/_validation.py:514: DataConversionWarning: A column-vector y was passed when a 1d array was expected. Please change the shape of y to (n_samples, ), for example using ravel().\n",
            "  estimator.fit(X_train, y_train, **fit_params)\n",
            "/usr/local/lib/python3.6/dist-packages/sklearn/model_selection/_validation.py:514: DataConversionWarning: A column-vector y was passed when a 1d array was expected. Please change the shape of y to (n_samples, ), for example using ravel().\n",
            "  estimator.fit(X_train, y_train, **fit_params)\n",
            "/usr/local/lib/python3.6/dist-packages/sklearn/model_selection/_validation.py:514: DataConversionWarning: A column-vector y was passed when a 1d array was expected. Please change the shape of y to (n_samples, ), for example using ravel().\n",
            "  estimator.fit(X_train, y_train, **fit_params)\n",
            "/usr/local/lib/python3.6/dist-packages/sklearn/model_selection/_validation.py:514: DataConversionWarning: A column-vector y was passed when a 1d array was expected. Please change the shape of y to (n_samples, ), for example using ravel().\n",
            "  estimator.fit(X_train, y_train, **fit_params)\n",
            "/usr/local/lib/python3.6/dist-packages/sklearn/model_selection/_validation.py:514: DataConversionWarning: A column-vector y was passed when a 1d array was expected. Please change the shape of y to (n_samples, ), for example using ravel().\n",
            "  estimator.fit(X_train, y_train, **fit_params)\n",
            "/usr/local/lib/python3.6/dist-packages/sklearn/model_selection/_validation.py:514: DataConversionWarning: A column-vector y was passed when a 1d array was expected. Please change the shape of y to (n_samples, ), for example using ravel().\n",
            "  estimator.fit(X_train, y_train, **fit_params)\n",
            "/usr/local/lib/python3.6/dist-packages/sklearn/model_selection/_validation.py:514: DataConversionWarning: A column-vector y was passed when a 1d array was expected. Please change the shape of y to (n_samples, ), for example using ravel().\n",
            "  estimator.fit(X_train, y_train, **fit_params)\n",
            "/usr/local/lib/python3.6/dist-packages/sklearn/model_selection/_validation.py:514: DataConversionWarning: A column-vector y was passed when a 1d array was expected. Please change the shape of y to (n_samples, ), for example using ravel().\n",
            "  estimator.fit(X_train, y_train, **fit_params)\n",
            "/usr/local/lib/python3.6/dist-packages/sklearn/model_selection/_validation.py:514: DataConversionWarning: A column-vector y was passed when a 1d array was expected. Please change the shape of y to (n_samples, ), for example using ravel().\n",
            "  estimator.fit(X_train, y_train, **fit_params)\n",
            "[Parallel(n_jobs=1)]: Done  81 out of  81 | elapsed:    0.3s finished\n",
            "/usr/local/lib/python3.6/dist-packages/sklearn/model_selection/_search.py:813: DeprecationWarning: The default of the `iid` parameter will change from True to False in version 0.22 and will be removed in 0.24. This will change numeric results when test-set sizes are unequal.\n",
            "  DeprecationWarning)\n",
            "/usr/local/lib/python3.6/dist-packages/sklearn/model_selection/_search.py:714: DataConversionWarning: A column-vector y was passed when a 1d array was expected. Please change the shape of y to (n_samples, ), for example using ravel().\n",
            "  self.best_estimator_.fit(X, y, **fit_params)\n"
          ],
          "name": "stderr"
        },
        {
          "output_type": "execute_result",
          "data": {
            "text/plain": [
              "GridSearchCV(cv='warn', error_score='raise-deprecating',\n",
              "             estimator=KNeighborsClassifier(algorithm='auto', leaf_size=30,\n",
              "                                            metric='minkowski',\n",
              "                                            metric_params=None, n_jobs=None,\n",
              "                                            n_neighbors=8, p=2,\n",
              "                                            weights='uniform'),\n",
              "             iid='warn', n_jobs=None,\n",
              "             param_grid={'metric': ['minkowski', 'cosine', 'euclidean'],\n",
              "                         'n_neighbors': [2, 3, 4], 'p': [2, 3, 4]},\n",
              "             pre_dispatch='2*n_jobs', refit=True, return_train_score=False,\n",
              "             scoring=None, verbose=3)"
            ]
          },
          "metadata": {
            "tags": []
          },
          "execution_count": 80
        }
      ]
    },
    {
      "cell_type": "code",
      "metadata": {
        "id": "bzxHHY3pUSYF",
        "colab_type": "code",
        "colab": {
          "base_uri": "https://localhost:8080/",
          "height": 238
        },
        "outputId": "af2d8d04-5ac9-4737-a5e8-fce370447f4a"
      },
      "source": [
        "print(grid.best_params_)\n",
        "print(grid)\n",
        "print(grid.best_score_)"
      ],
      "execution_count": 81,
      "outputs": [
        {
          "output_type": "stream",
          "text": [
            "{'metric': 'minkowski', 'n_neighbors': 3, 'p': 4}\n",
            "GridSearchCV(cv='warn', error_score='raise-deprecating',\n",
            "             estimator=KNeighborsClassifier(algorithm='auto', leaf_size=30,\n",
            "                                            metric='minkowski',\n",
            "                                            metric_params=None, n_jobs=None,\n",
            "                                            n_neighbors=8, p=2,\n",
            "                                            weights='uniform'),\n",
            "             iid='warn', n_jobs=None,\n",
            "             param_grid={'metric': ['minkowski', 'cosine', 'euclidean'],\n",
            "                         'n_neighbors': [2, 3, 4], 'p': [2, 3, 4]},\n",
            "             pre_dispatch='2*n_jobs', refit=True, return_train_score=False,\n",
            "             scoring=None, verbose=3)\n",
            "0.9230769230769231\n"
          ],
          "name": "stdout"
        }
      ]
    },
    {
      "cell_type": "code",
      "metadata": {
        "id": "9mVspPFFswaz",
        "colab_type": "code",
        "colab": {
          "base_uri": "https://localhost:8080/",
          "height": 170
        },
        "outputId": "81a0b91c-bf97-469f-ca94-fac0fdac4a74"
      },
      "source": [
        "# Make predictions with the hypertuned model\n",
        "predictions = grid.predict(X_test)\n",
        "\n",
        "predictions = grid.predict(X_test)\n",
        "\n",
        "# Calculate classification report\n",
        "from sklearn.metrics import classification_report\n",
        "print(classification_report(y_test, predictions,\n",
        "                            target_names=[\"blue\", \"red\"]))"
      ],
      "execution_count": 82,
      "outputs": [
        {
          "output_type": "stream",
          "text": [
            "              precision    recall  f1-score   support\n",
            "\n",
            "        blue       0.83      0.94      0.88        16\n",
            "         red       0.94      0.84      0.89        19\n",
            "\n",
            "    accuracy                           0.89        35\n",
            "   macro avg       0.89      0.89      0.89        35\n",
            "weighted avg       0.89      0.89      0.89        35\n",
            "\n"
          ],
          "name": "stdout"
        }
      ]
    },
    {
      "cell_type": "code",
      "metadata": {
        "id": "TrHy_DwyUSd7",
        "colab_type": "code",
        "colab": {}
      },
      "source": [
        ""
      ],
      "execution_count": 0,
      "outputs": []
    },
    {
      "cell_type": "code",
      "metadata": {
        "id": "ildPsCOAdVK4",
        "colab_type": "code",
        "colab": {}
      },
      "source": [
        ""
      ],
      "execution_count": 0,
      "outputs": []
    }
  ]
}